{
 "cells": [
  {
   "cell_type": "code",
   "execution_count": 9,
   "id": "da3c152d",
   "metadata": {},
   "outputs": [
    {
     "ename": "TypeError",
     "evalue": "BaseModel.__init__() missing 1 required positional argument: 'dataset_meta_data'",
     "output_type": "error",
     "traceback": [
      "\u001b[0;31m---------------------------------------------------------------------------\u001b[0m",
      "\u001b[0;31mTypeError\u001b[0m                                 Traceback (most recent call last)",
      "Cell \u001b[0;32mIn[9], line 12\u001b[0m\n\u001b[1;32m     10\u001b[0m model_name \u001b[38;5;241m=\u001b[39m \u001b[38;5;124m'\u001b[39m\u001b[38;5;124mvit_multilabel_classification\u001b[39m\u001b[38;5;124m'\u001b[39m\n\u001b[1;32m     11\u001b[0m model_cls \u001b[38;5;241m=\u001b[39m models\u001b[38;5;241m.\u001b[39mget_model_cls(model_name)\n\u001b[0;32m---> 12\u001b[0m model_def \u001b[38;5;241m=\u001b[39m \u001b[43mmodel_cls\u001b[49m\u001b[43m(\u001b[49m\u001b[43mconfig\u001b[49m\u001b[38;5;241;43m=\u001b[39;49m\u001b[43mconfig\u001b[49m\u001b[43m)\u001b[49m\n\u001b[1;32m     15\u001b[0m \u001b[38;5;66;03m# Dummy TrainState for restoration (replace with your actual TrainState)\u001b[39;00m\n\u001b[1;32m     16\u001b[0m \u001b[38;5;28;01mfrom\u001b[39;00m\u001b[38;5;250m \u001b[39m\u001b[38;5;21;01mscenic\u001b[39;00m\u001b[38;5;21;01m.\u001b[39;00m\u001b[38;5;21;01mtrain_lib\u001b[39;00m\u001b[38;5;21;01m.\u001b[39;00m\u001b[38;5;21;01mtrain_utils\u001b[39;00m\u001b[38;5;250m \u001b[39m\u001b[38;5;28;01mimport\u001b[39;00m TrainState\n",
      "\u001b[0;31mTypeError\u001b[0m: BaseModel.__init__() missing 1 required positional argument: 'dataset_meta_data'"
     ]
    }
   ],
   "source": [
    "# Example: Load a pretrained ViT checkpoint in Scenic\n",
    "from scenic.train_lib import train_utils\n",
    "from scenic.model_lib import models\n",
    "import ml_collections\n",
    "import jax\n",
    "\n",
    "# Set up config (replace with your actual config)\n",
    "config = ml_collections.ConfigDict()\n",
    "config.pretrained_checkpoint_path = 'Pretrained_Models/ViT_B_16_ImageNet21k'  # Update this path\n",
    "model_name = 'vit_multilabel_classification'\n",
    "model_cls = models.get_model_cls(model_name)\n",
    "model_def = model_cls(config=config)\n",
    "\n",
    "\n",
    "# Dummy TrainState for restoration (replace with your actual TrainState)\n",
    "from scenic.train_lib.train_utils import TrainState\n",
    "train_state = TrainState()\n",
    "\n",
    "# Restore checkpoint\n",
    "train_state, step = train_utils.restore_checkpoint(\n",
    "    config.pretrained_checkpoint_path,\n",
    "    train_state=train_state\n",
    ")\n",
    "print(f'Restored checkpoint at step {step}')"
   ]
  }
 ],
 "metadata": {
  "kernelspec": {
   "display_name": "scenic-mnist",
   "language": "python",
   "name": "python3"
  },
  "language_info": {
   "codemirror_mode": {
    "name": "ipython",
    "version": 3
   },
   "file_extension": ".py",
   "mimetype": "text/x-python",
   "name": "python",
   "nbconvert_exporter": "python",
   "pygments_lexer": "ipython3",
   "version": "3.10.18"
  }
 },
 "nbformat": 4,
 "nbformat_minor": 5
}
